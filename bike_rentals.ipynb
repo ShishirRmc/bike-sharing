{
  "nbformat": 4,
  "nbformat_minor": 0,
  "metadata": {
    "colab": {
      "provenance": []
    },
    "kernelspec": {
      "name": "python3",
      "display_name": "Python 3"
    },
    "language_info": {
      "name": "python"
    }
  },
  "cells": [
    {
      "cell_type": "code",
      "execution_count": 24,
      "metadata": {
        "id": "44P5KI4MZ679"
      },
      "outputs": [],
      "source": [
        "import pandas as pd\n",
        "import matplotlib.pyplot as plt\n",
        "import numpy as np"
      ]
    },
    {
      "cell_type": "code",
      "source": [
        "dataset_d = pd.read_csv('day.csv')\n",
        "dataset_h = pd.read_csv('hour.csv')"
      ],
      "metadata": {
        "id": "9ffghY3_aH9k"
      },
      "execution_count": 25,
      "outputs": []
    },
    {
      "cell_type": "code",
      "source": [
        "dataset_d.head()\n"
      ],
      "metadata": {
        "id": "-C_3GmnZaQmP",
        "collapsed": true
      },
      "execution_count": null,
      "outputs": []
    },
    {
      "cell_type": "code",
      "source": [
        "# dataset_d.info()\n",
        "dataset_h.info()"
      ],
      "metadata": {
        "id": "iy5k23Sya74o",
        "collapsed": true
      },
      "execution_count": null,
      "outputs": []
    },
    {
      "cell_type": "code",
      "source": [
        "dataset_d['dteday'] = pd.to_datetime(dataset_d['dteday'])\n",
        "dataset_d['year'] = dataset_d['dteday'].dt.year\n",
        "dataset_d['month'] = dataset_d['dteday'].dt.month\n",
        "dataset_d['day'] = dataset_d['dteday'].dt.day\n"
      ],
      "metadata": {
        "id": "vdgo5NKtfEQa"
      },
      "execution_count": 28,
      "outputs": []
    },
    {
      "cell_type": "code",
      "source": [
        "dataset_d['year']"
      ],
      "metadata": {
        "id": "JMNm2qOMgG_j",
        "collapsed": true
      },
      "execution_count": null,
      "outputs": []
    },
    {
      "cell_type": "code",
      "source": [
        "# standardizing the colomns\n",
        "#standard scaler perfromed poorly\n",
        "# from sklearn.preprocessing import StandardScaler\n",
        "\n",
        "# sc = StandardScaler()\n",
        "\n",
        "# cols = ['temp',\t'atemp',\t'hum',\t'windspeed']\n",
        "# dataset_d[cols] = sc.fit_transform(dataset_d[cols])\n",
        "\n",
        "\n",
        "from sklearn.preprocessing import MinMaxScaler\n",
        "sc = MinMaxScaler()\n",
        "cols = ['temp',\t'atemp',\t'hum',\t'windspeed']\n",
        "dataset_d[cols] = sc.fit_transform(dataset_d[cols])"
      ],
      "metadata": {
        "id": "0VOLI2Mzhh2q"
      },
      "execution_count": 30,
      "outputs": []
    },
    {
      "cell_type": "code",
      "source": [
        "drops = ['dteday', 'mnth', 'instant', 'casual', 'registered', 'yr']\n",
        "dataset_d = dataset_d.drop(drops, axis=1)"
      ],
      "metadata": {
        "id": "DoD9o7nmhhbt"
      },
      "execution_count": 31,
      "outputs": []
    },
    {
      "cell_type": "code",
      "source": [
        "# spliting the features and outputs\n",
        "\n",
        "# X = dataset_d.drop('cnt', axis=1)\n",
        "# y = dataset_d['cnt']\n",
        "\n",
        "\n"
      ],
      "metadata": {
        "id": "TiPmwJKIa-EP"
      },
      "execution_count": 32,
      "outputs": []
    },
    {
      "cell_type": "code",
      "source": [
        "# from sklearn.model_selection import train_test_split\n",
        "# X_train, X_test, y_train, y_test = train_test_split(X, y, test_size = 0.2, random_state = 0)\n",
        "\n",
        "\n",
        "# we are supposed to use year as the test and train split\n",
        "# 2011 for train and 2012 for test\n",
        "\n",
        "train_data = dataset_d[dataset_d['year'] == 2011]\n",
        "test_data = dataset_d[dataset_d['year'] == 2012]\n",
        "\n",
        "\n",
        "#spliting the features and outputs\n",
        "\n",
        "X_train = train_data.drop('cnt', axis=1)\n",
        "y_train = train_data['cnt']\n",
        "\n",
        "X_test = test_data.drop('cnt', axis=1)\n",
        "y_test = test_data['cnt']"
      ],
      "metadata": {
        "id": "ltn5DpD2kGKS"
      },
      "execution_count": 33,
      "outputs": []
    },
    {
      "cell_type": "markdown",
      "source": [],
      "metadata": {
        "id": "nY0oDSqTkODX"
      }
    },
    {
      "cell_type": "code",
      "source": [
        "# aba nn banam hai (let's build nn now) 🤣\n",
        "\n",
        "import tensorflow as tf\n",
        "\n",
        "ann = tf.keras.models.Sequential()\n",
        "\n",
        "# input and one hidden layer\n",
        "ann.add(tf.keras.layers.Dense(units=6, activation='relu'))\n",
        "\n",
        "# second hidden layer\n",
        "ann.add(tf.keras.layers.Dense(units=6, activation='relu'))\n",
        "\n",
        "# output layer\n",
        "ann.add(tf.keras.layers.Dense(units=1, activation='linear'))\n",
        "\n",
        "\n"
      ],
      "metadata": {
        "id": "wkMzq8ZDjV2R"
      },
      "execution_count": 34,
      "outputs": []
    },
    {
      "cell_type": "code",
      "source": [
        "ann.compile(optimizer = 'adam', loss = 'mse')"
      ],
      "metadata": {
        "id": "y_Aw2rnhj88u"
      },
      "execution_count": 35,
      "outputs": []
    },
    {
      "cell_type": "code",
      "source": [
        "ann.fit(X_train, y_train, batch_size = 32, epochs = 1000)"
      ],
      "metadata": {
        "id": "llKWMdvvlP3k",
        "collapsed": true
      },
      "execution_count": null,
      "outputs": []
    },
    {
      "cell_type": "code",
      "source": [
        "y_pred = ann.predict(X_test)\n",
        "y_pred = (y_pred > 0.5)\n",
        "print(np.concatenate((y_pred.reshape(len(y_pred),1), y_test.values.reshape(len(y_test),1)),1)) # Changed y_test to y_test.values"
      ],
      "metadata": {
        "id": "n11zWuSzlTRw",
        "collapsed": true
      },
      "execution_count": null,
      "outputs": []
    },
    {
      "cell_type": "code",
      "source": [
        "y_pred = ann.predict(X_test)"
      ],
      "metadata": {
        "id": "a_Dv9956lgz_"
      },
      "execution_count": null,
      "outputs": []
    },
    {
      "cell_type": "code",
      "source": [
        "print(y_pred[:5])"
      ],
      "metadata": {
        "id": "zzm816_bgHBh"
      },
      "execution_count": null,
      "outputs": []
    },
    {
      "cell_type": "code",
      "source": [
        "y_test.head()"
      ],
      "metadata": {
        "id": "JmlYQUwqgIxh"
      },
      "execution_count": null,
      "outputs": []
    },
    {
      "cell_type": "code",
      "source": [],
      "metadata": {
        "id": "4KbfWYFhlz9W"
      },
      "execution_count": null,
      "outputs": []
    }
  ]
}